{
  "nbformat": 4,
  "nbformat_minor": 0,
  "metadata": {
    "colab": {
      "name": "Cópia de exerciciobemolipynb",
      "provenance": [],
      "collapsed_sections": [],
      "authorship_tag": "ABX9TyPEiTTsHt6iVgcMpkFZUXu0",
      "include_colab_link": true
    },
    "kernelspec": {
      "display_name": "Python 3",
      "name": "python3"
    }
  },
  "cells": [
    {
      "cell_type": "markdown",
      "metadata": {
        "id": "view-in-github",
        "colab_type": "text"
      },
      "source": [
        "<a href=\"https://colab.research.google.com/github/moronii/AnaliseDeDadosBemol/blob/main/C%C3%B3pia_de_exerciciobemolipynb.ipynb\" target=\"_parent\"><img src=\"https://colab.research.google.com/assets/colab-badge.svg\" alt=\"Open In Colab\"/></a>"
      ]
    },
    {
      "cell_type": "markdown",
      "metadata": {
        "id": "XFlPg_Lep0TS"
      },
      "source": [
        "# exercicio 2\r\n",
        "O time de compras da bemol solicitou um código que, a partir do número do\r\n",
        "produto, identifique se aquele item é um item do mercado bemol, bemol farma ou\r\n",
        "bemol varejo. Faça um programa que peça um código de produto e imprima na tela\r\n",
        "qual ramo ele pertence visto que: códigos que começam com 133 e 134 são itens de\r\n",
        "mercado; 130 e 132 são itens farma; 100 a 129 são itens varejo. Qualquer código que\r\n",
        "não comece com esses valores são itens não cadastrados."
      ]
    },
    {
      "cell_type": "code",
      "metadata": {
        "colab": {
          "base_uri": "https://localhost:8080/"
        },
        "id": "CcioyxWUqCns",
        "outputId": "e7da1c1d-98ee-4af0-ad0e-47af8f59c390"
      },
      "source": [
        "codigo  =  int ( input ( \"Insira o codigo do produto: \" ))\r\n",
        "    \r\n",
        "    \r\n",
        "\r\n",
        "if(codigo >= 133 and codigo <= 134) :\r\n",
        "  print ('itens de mercado')\r\n",
        "\r\n",
        "elif (codigo >= 130 and codigo <=  132) :\r\n",
        "  print ('itens farma')\r\n",
        "\r\n",
        "elif (codigo >= 100 and codigo <=  129) :\r\n",
        "  print ('itens varejo')\r\n",
        "else :\r\n",
        "  print (' item nao cadastrado')\r\n",
        " \r\n",
        "  \r\n",
        "\r\n",
        "  \r\n",
        "  \r\n",
        " \r\n",
        "\r\n",
        "\r\n",
        "   \r\n",
        "\r\n",
        "     \r\n",
        "\r\n"
      ],
      "execution_count": null,
      "outputs": [
        {
          "output_type": "stream",
          "text": [
            "Insira o codigo do produto: 157\n",
            " item nao cadastrado\n"
          ],
          "name": "stdout"
        }
      ]
    },
    {
      "cell_type": "markdown",
      "metadata": {
        "id": "q670zjBdE12f"
      },
      "source": [
        "# exercico1\r\n",
        " O time de contas a receber solicitou do time de manipulação de dados que fizesse\r\n",
        "um código onde reproduzisse a fórmula do cálculo de juros e multa aplicados aos\r\n",
        "contratos que o sistema realiza para facilitar a aplicação e cálculo quando algum\r\n",
        "cliente desejar tirar dúvidas sobre pagamentos. Faça um um programa que peça o\r\n",
        "valor do contrato e a quantidade de dias de atraso e imprima na tela o valor total da\r\n",
        "parcela, onde:\r\n",
        "\r\n",
        "● para 1 dia de atraso :\r\n",
        "juros = valor do contrato * 0.00397\r\n",
        "multa = 0\r\n",
        "\r\n",
        "● para mais de um dia de atraso:\r\n",
        "juros = valor do contrato * 0.00397 * dias de atraso\r\n",
        "multa = valor do contrato * 0.02"
      ]
    },
    {
      "cell_type": "code",
      "metadata": {
        "id": "jrLfwVxDIf9e",
        "colab": {
          "base_uri": "https://localhost:8080/"
        },
        "outputId": "a0e50bea-b9f7-4ce4-ede3-1627d08bcecb"
      },
      "source": [
        "valor  =  int ( input ( \"Digite o valor do contrato : \" ))\r\n",
        "dias =  int ( input ( \"digite a quantidade de dias em atraso : \" ))\r\n",
        "multa = 0\r\n",
        "\r\n",
        "\r\n",
        "if ( dias == 1 ) :\r\n",
        "\r\n",
        " juros = (valor * 0.00397)\r\n",
        "\r\n",
        " print(f\"O valor total da parcela é de R$ {juros + valor :.2f}\")\r\n",
        "\r\n",
        "elif (dias > 1) :\r\n",
        "\r\n",
        "  juros = ( valor * 0.00397 * dias )\r\n",
        "  multa = ( valor * 0.02 )\r\n",
        "\r\n",
        "  print(f\"O valor total da parcela é de R$ {juros + multa + valor:.2f}\")\r\n",
        "\r\n",
        "\r\n",
        "\r\n",
        "  \r\n",
        "\r\n",
        "\r\n",
        "\r\n",
        "\r\n",
        "\r\n",
        "\r\n",
        "\r\n",
        "\r\n",
        "\r\n"
      ],
      "execution_count": null,
      "outputs": [
        {
          "output_type": "stream",
          "text": [
            "Digite o valor do contrato : 34\n",
            "digite a quantidade de dias em atraso : 3\n",
            "O valor total da parcela é de R$ 35.08\n"
          ],
          "name": "stdout"
        }
      ]
    },
    {
      "cell_type": "markdown",
      "metadata": {
        "id": "IQNKuxMEY__Z"
      },
      "source": [
        "##exercicio3\r\n",
        "\r\n",
        "\r\n",
        "A Bemol Varejo sempre está fornecendo pontos de bônus para seus clientes\r\n",
        "(compras, pagamentos de parcelas, adiantamentos, datas comemorativas, etc). Esses\r\n",
        "pontos de bônus podem ser usados para descontos em outras compras ou\r\n",
        "pagamentos e o valor deles depende do nível do cliente que pode ser: AZUL, PRATA,\r\n",
        "OURO, DIAMANTE E DIAMANTE+. \r\n",
        "\r\n",
        "Faça um programa que peça o número de pontos\r\n",
        "total que um cliente tenha acumulado e calcule o valor que ele pode ter de retorno de\r\n",
        "acordo com a sua pedra, onde a cada 1500 pontos:\r\n",
        "● Cliente Azul tem 10 reais de retorno;\r\n",
        "● Cliente Prata tem 12.5 reais de retorno;\r\n",
        "● Cliente Ouro tem 15 reais de retorno;\r\n",
        "● Cliente Diamante tem 17.5 reais de retorno;\r\n",
        "● Cliente Diamante+ tem 20 reais de retorno;\r\n"
      ]
    },
    {
      "cell_type": "code",
      "metadata": {
        "colab": {
          "base_uri": "https://localhost:8080/"
        },
        "id": "ZVAY_XxO0BNd",
        "outputId": "14b838fe-7237-4b24-b5c0-00e5b17573c6"
      },
      "source": [
        "pedras = {'azul':10,\r\n",
        "          'prata':12.5,\r\n",
        "          'ouro':15,\r\n",
        "          'diamante':17.5,\r\n",
        "          'diamante+':20 }\r\n",
        "\r\n",
        "valor = int ( input ( \"Digite o numero de pontos do cliente : \" ))\r\n",
        "if ( valor >= 1500 and valor <= 3000 ):\r\n",
        "\r\n",
        "  total = valor - pedras['azul'] \r\n",
        "\r\n",
        "  print (total)\r\n",
        "\r\n",
        "elif ( valor >= 3000 and valor <= 4500 ):\r\n",
        "\r\n",
        "   total = valor - pedras['prata'] \r\n",
        "\r\n",
        "   print (total)  \r\n",
        "   \r\n",
        "elif ( valor >= 4500 and valor <= 6000 ):\r\n",
        "\r\n",
        "  total = valor - pedras['ouro']\r\n",
        "\r\n",
        "  print (total)\r\n",
        "\r\n",
        "elif ( valor >= 6000 and valor <= 7500 ):\r\n",
        "  \r\n",
        "  total = valor - pedras['diamante']\r\n",
        "\r\n",
        "  print (total)\r\n",
        "\r\n",
        "elif ( valor >= 7500 and valor <= 8000):\r\n",
        "\r\n",
        "  total = valor - pedras['diamante+']\r\n",
        "\r\n",
        "  print (total)"
      ],
      "execution_count": null,
      "outputs": [
        {
          "output_type": "stream",
          "text": [
            "Digite o numero de pontos do cliente : 1586\n",
            "1576\n"
          ],
          "name": "stdout"
        }
      ]
    }
  ]
}